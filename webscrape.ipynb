{
 "cells": [
  {
   "cell_type": "markdown",
   "id": "3bc8c8f9",
   "metadata": {},
   "source": [
    "# Amazon webscraping using Python for analyzing price of T-Shirt"
   ]
  },
  {
   "cell_type": "code",
   "execution_count": null,
   "id": "9bba2858",
   "metadata": {},
   "outputs": [],
   "source": [
    "##importing libraries\n",
    "\n",
    "from bs4 import BeautifulSoup\n",
    "import requests\n",
    "import time\n",
    "import datetime"
   ]
  },
  {
   "cell_type": "code",
   "execution_count": 21,
   "id": "cff9af02",
   "metadata": {},
   "outputs": [
    {
     "name": "stdout",
     "output_type": "stream",
     "text": [
      "No value found\n"
     ]
    }
   ],
   "source": [
    "url = 'https://www.amazon.in/DUDEME-Programmer-Coding-Developer-T-Shirt/dp/B08SFHKHV3/ref=sr_1_2?crid=3PGGJO2D958ZV&keywords=analyst+tshirt&qid=1695539066&sprefix=analyst+tshirt%2Caps%2C271&sr=8-2'\n",
    "##get headers from http://httpbin.org/get\n",
    "headers = {\"User-Agent\": \"Mozilla/5.0 (Windows NT 10.0; Win64; x64) AppleWebKit/537.36 (KHTML, like Gecko) Chrome/117.0.0.0 Safari/537.36 Edg/117.0.2045.36\" }\n",
    "\n",
    "page = requests.get(url,headers=headers)\n",
    "\n",
    "soup1 = BeautifulSoup(page.content,'html.parser')\n",
    "\n",
    "soup2 = BeautifulSoup(soup1.prettify(),'html.parser')\n",
    "\n",
    "my_object = soup2.find('span',{'class':'a-price-whole'})\n",
    "\n",
    "try:\n",
    "    text = my_object.get_text()\n",
    "except AttributeError:\n",
    "    # Handle the AttributeError, e.g., set a default value or log an error message.\n",
    "    text = \"No value found\"\n",
    "    \n",
    "print(text)"
   ]
  },
  {
   "cell_type": "code",
   "execution_count": 22,
   "id": "2654e577",
   "metadata": {},
   "outputs": [
    {
     "name": "stdout",
     "output_type": "stream",
     "text": [
      "No value found\n"
     ]
    }
   ],
   "source": [
    "text.strip()\n",
    "print (text)"
   ]
  },
  {
   "cell_type": "code",
   "execution_count": 23,
   "id": "a92be166",
   "metadata": {},
   "outputs": [
    {
     "name": "stdout",
     "output_type": "stream",
     "text": [
      "2023-11-16\n"
     ]
    }
   ],
   "source": [
    "#create a timestamp when data was collected\n",
    "\n",
    "from datetime import datetime\n",
    "\n",
    "today = datetime.now().date()\n",
    "\n",
    "print(today)"
   ]
  },
  {
   "cell_type": "code",
   "execution_count": 24,
   "id": "a65ebd47",
   "metadata": {},
   "outputs": [],
   "source": [
    "import csv\n",
    "\n",
    "header = ['Price','Date']\n",
    "data = [text,today]\n",
    "\n",
    "with open(r\"C:\\Users\\91727\\OneDrive\\Documents\\Kaksha's Data\\amazon_webscrape.csv\",'w',newline='',encoding='UTF8') as f:\n",
    "    writer = csv.writer(f)\n",
    "    writer.writerow(header)\n",
    "    writer.writerow(data)"
   ]
  },
  {
   "cell_type": "code",
   "execution_count": 25,
   "id": "a9ebed32",
   "metadata": {},
   "outputs": [
    {
     "name": "stdout",
     "output_type": "stream",
     "text": [
      "            Price        Date\n",
      "0  No value found  2023-11-16\n"
     ]
    }
   ],
   "source": [
    "import pandas as pd\n",
    "\n",
    "df = pd.read_csv(r\"C:\\Users\\91727\\OneDrive\\Documents\\Kaksha's Data\\amazon_webscrape.csv\")\n",
    "\n",
    "print(df)"
   ]
  },
  {
   "cell_type": "code",
   "execution_count": 26,
   "id": "4e427db5",
   "metadata": {},
   "outputs": [],
   "source": [
    "##appending data to csv\n",
    "with open(r\"C:\\Users\\91727\\OneDrive\\Documents\\Kaksha's Data\\amazon_webscrape.csv\",\"a+\",newline='',encoding='UTF8') as f:\n",
    "    writer = csv.writer(f)\n",
    "    writer.writerow(data)"
   ]
  },
  {
   "cell_type": "code",
   "execution_count": 27,
   "id": "d48e6df6",
   "metadata": {},
   "outputs": [],
   "source": [
    "##combine all the code in one function\n",
    "\n",
    "def check_details():\n",
    "    url = 'https://www.amazon.in/DUDEME-Programmer-Coding-Developer-T-Shirt/dp/B08SFHKHV3/ref=sr_1_2?crid=3PGGJO2D958ZV&keywords=analyst+tshirt&qid=1695539066&sprefix=analyst+tshirt%2Caps%2C271&sr=8-2'\n",
    "\n",
    "    headers = {\"User-Agent\": \"Mozilla/5.0 (Windows NT 10.0; Win64; x64) AppleWebKit/537.36 (KHTML, like Gecko) Chrome/117.0.0.0 Safari/537.36 Edg/117.0.2045.36\" }\n",
    "\n",
    "    page = requests.get(url,headers=headers)\n",
    "\n",
    "    soup1 = BeautifulSoup(page.content,'html.parser')\n",
    "\n",
    "    soup2 = BeautifulSoup(soup1.prettify(),'html.parser')\n",
    "\n",
    "    my_object = soup2.find('span',{'class':'a-price-whole'})\n",
    "\n",
    "    try:\n",
    "        text = my_object.get_text()\n",
    "    except AttributeError:\n",
    "        # Handle the AttributeError, e.g., set a default value or log an error message.\n",
    "        text = \"No element found\"\n",
    "        \n",
    "    text.strip()\n",
    "    print (text)\n",
    "    \n",
    "    from datetime import datetime\n",
    "    \n",
    "    today = datetime.now().date()\n",
    "        \n",
    "    import csv\n",
    "\n",
    "    header = ['Price','Date']\n",
    "    data = [text,today]\n",
    "\n",
    "    with open(r\"C:\\Users\\91727\\OneDrive\\Documents\\Kaksha's Data\\amazon_webscrape.csv\",\"a+\",newline='',encoding='UTF8') as f:\n",
    "        writer = csv.writer(f)\n",
    "        writer.writerow(data)    \n",
    "        \n",
    "    "
   ]
  },
  {
   "cell_type": "code",
   "execution_count": 28,
   "id": "6ac8280f",
   "metadata": {},
   "outputs": [
    {
     "name": "stdout",
     "output_type": "stream",
     "text": [
      "No element found\n",
      "\n",
      "                      549\n",
      "                     \n",
      "No element found\n",
      "No element found\n",
      "\n",
      "                      549\n",
      "                     \n",
      "\n",
      "                      549\n",
      "                     \n",
      "\n",
      "                      549\n",
      "                     \n"
     ]
    },
    {
     "ename": "PermissionError",
     "evalue": "[Errno 13] Permission denied: \"C:\\\\Users\\\\91727\\\\OneDrive\\\\Documents\\\\Kaksha's Data\\\\amazon_webscrape.csv\"",
     "output_type": "error",
     "traceback": [
      "\u001b[1;31m---------------------------------------------------------------------------\u001b[0m",
      "\u001b[1;31mPermissionError\u001b[0m                           Traceback (most recent call last)",
      "\u001b[1;32m~\\AppData\\Local\\Temp\\ipykernel_11368\\2639971539.py\u001b[0m in \u001b[0;36m<module>\u001b[1;34m\u001b[0m\n\u001b[0;32m      2\u001b[0m \u001b[1;33m\u001b[0m\u001b[0m\n\u001b[0;32m      3\u001b[0m \u001b[1;32mwhile\u001b[0m\u001b[1;33m(\u001b[0m\u001b[1;32mTrue\u001b[0m\u001b[1;33m)\u001b[0m\u001b[1;33m:\u001b[0m\u001b[1;33m\u001b[0m\u001b[1;33m\u001b[0m\u001b[0m\n\u001b[1;32m----> 4\u001b[1;33m     \u001b[0mcheck_details\u001b[0m\u001b[1;33m(\u001b[0m\u001b[1;33m)\u001b[0m\u001b[1;33m\u001b[0m\u001b[1;33m\u001b[0m\u001b[0m\n\u001b[0m\u001b[0;32m      5\u001b[0m     \u001b[0mtime\u001b[0m\u001b[1;33m.\u001b[0m\u001b[0msleep\u001b[0m\u001b[1;33m(\u001b[0m\u001b[1;36m5\u001b[0m\u001b[1;33m)\u001b[0m\u001b[1;33m\u001b[0m\u001b[1;33m\u001b[0m\u001b[0m\n",
      "\u001b[1;32m~\\AppData\\Local\\Temp\\ipykernel_11368\\230403752.py\u001b[0m in \u001b[0;36mcheck_details\u001b[1;34m()\u001b[0m\n\u001b[0;32m     32\u001b[0m     \u001b[0mdata\u001b[0m \u001b[1;33m=\u001b[0m \u001b[1;33m[\u001b[0m\u001b[0mtext\u001b[0m\u001b[1;33m,\u001b[0m\u001b[0mtoday\u001b[0m\u001b[1;33m]\u001b[0m\u001b[1;33m\u001b[0m\u001b[1;33m\u001b[0m\u001b[0m\n\u001b[0;32m     33\u001b[0m \u001b[1;33m\u001b[0m\u001b[0m\n\u001b[1;32m---> 34\u001b[1;33m     \u001b[1;32mwith\u001b[0m \u001b[0mopen\u001b[0m\u001b[1;33m(\u001b[0m\u001b[1;34mr\"C:\\Users\\91727\\OneDrive\\Documents\\Kaksha's Data\\amazon_webscrape.csv\"\u001b[0m\u001b[1;33m,\u001b[0m\u001b[1;34m\"a+\"\u001b[0m\u001b[1;33m,\u001b[0m\u001b[0mnewline\u001b[0m\u001b[1;33m=\u001b[0m\u001b[1;34m''\u001b[0m\u001b[1;33m,\u001b[0m\u001b[0mencoding\u001b[0m\u001b[1;33m=\u001b[0m\u001b[1;34m'UTF8'\u001b[0m\u001b[1;33m)\u001b[0m \u001b[1;32mas\u001b[0m \u001b[0mf\u001b[0m\u001b[1;33m:\u001b[0m\u001b[1;33m\u001b[0m\u001b[1;33m\u001b[0m\u001b[0m\n\u001b[0m\u001b[0;32m     35\u001b[0m         \u001b[0mwriter\u001b[0m \u001b[1;33m=\u001b[0m \u001b[0mcsv\u001b[0m\u001b[1;33m.\u001b[0m\u001b[0mwriter\u001b[0m\u001b[1;33m(\u001b[0m\u001b[0mf\u001b[0m\u001b[1;33m)\u001b[0m\u001b[1;33m\u001b[0m\u001b[1;33m\u001b[0m\u001b[0m\n\u001b[0;32m     36\u001b[0m         \u001b[0mwriter\u001b[0m\u001b[1;33m.\u001b[0m\u001b[0mwriterow\u001b[0m\u001b[1;33m(\u001b[0m\u001b[0mdata\u001b[0m\u001b[1;33m)\u001b[0m\u001b[1;33m\u001b[0m\u001b[1;33m\u001b[0m\u001b[0m\n",
      "\u001b[1;31mPermissionError\u001b[0m: [Errno 13] Permission denied: \"C:\\\\Users\\\\91727\\\\OneDrive\\\\Documents\\\\Kaksha's Data\\\\amazon_webscrape.csv\""
     ]
    }
   ],
   "source": [
    "##runs check_details after a set time and inputs in my data\n",
    "\n",
    "while(True):\n",
    "    check_details()\n",
    "    time.sleep(5)"
   ]
  },
  {
   "cell_type": "code",
   "execution_count": 19,
   "id": "baeb188f",
   "metadata": {},
   "outputs": [],
   "source": [
    "import smtplib\n",
    "\n",
    "def send_mail():\n",
    "    server = smtplib.SMTP_SSL('smtp.gmail.com',450)\n",
    "    server.ehlo()\n",
    "    #server starttls()\n",
    "    server.ehlo()\n",
    "    server.login('kakkuraut@outlook.com','XXXXXXXX')\n",
    "    \n",
    "    subject = 'The Shirt you want to buy is below 450 Rupees! Now is your chance to grab it!'\n",
    "    body = 'Kaksha,now you can buy this shirt which is wished for!'\n",
    "    \n",
    "    msg=f\"Subject:{subject}\\n\\n{body}\"\n",
    "    \n",
    "    server.sendmail(\n",
    "    'kakkuraut@outlook.com',\n",
    "    msg\n",
    "        \n",
    "    )"
   ]
  },
  {
   "cell_type": "code",
   "execution_count": null,
   "id": "b1a4bec2",
   "metadata": {},
   "outputs": [],
   "source": []
  }
 ],
 "metadata": {
  "kernelspec": {
   "display_name": "Python 3 (ipykernel)",
   "language": "python",
   "name": "python3"
  },
  "language_info": {
   "codemirror_mode": {
    "name": "ipython",
    "version": 3
   },
   "file_extension": ".py",
   "mimetype": "text/x-python",
   "name": "python",
   "nbconvert_exporter": "python",
   "pygments_lexer": "ipython3",
   "version": "3.9.13"
  }
 },
 "nbformat": 4,
 "nbformat_minor": 5
}
