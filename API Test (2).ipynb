{
 "cells": [
  {
   "cell_type": "code",
   "execution_count": null,
   "id": "dd98311f",
   "metadata": {},
   "outputs": [],
   "source": [
    "from requests import Request, Session\n",
    "from requests.exceptions import ConnectionError, Timeout, TooManyRedirects\n",
    "import json\n",
    "import os\n",
    "\n",
    "url = 'https://pro-api.coinmarketcap.com/v1/cryptocurrency/listings/latest'\n",
    "parameters = {\n",
    "  'start':'1',\n",
    "  'limit':'5000',\n",
    "  'convert':'USD'\n",
    "}\n",
    "headers = {\n",
    "  'Accepts': 'application/json',\n",
    "  'X-CMC_PRO_API_KEY': '16cb8e70-55da-4090-81ab-3c2d3e38b43c',\n",
    "}\n",
    "\n",
    "session = Session()\n",
    "session.headers.update(headers)\n",
    "\n",
    "try:\n",
    "  response = session.get(url, params=parameters)\n",
    "  data = json.loads(response.text)\n",
    "  print(data)\n",
    "except (ConnectionError, Timeout, TooManyRedirects) as e:\n",
    "  print(e)"
   ]
  },
  {
   "cell_type": "code",
   "execution_count": null,
   "id": "21d8d5f1",
   "metadata": {},
   "outputs": [],
   "source": [
    "type(data)"
   ]
  },
  {
   "cell_type": "code",
   "execution_count": null,
   "id": "e580d07d",
   "metadata": {},
   "outputs": [],
   "source": [
    "import pandas as pd\n",
    "\n",
    "pd.set_option('display.max_columns',None)\n",
    "#pd.set_option('display.max_rows',None)"
   ]
  },
  {
   "cell_type": "code",
   "execution_count": null,
   "id": "4e104974",
   "metadata": {},
   "outputs": [],
   "source": [
    "df = data"
   ]
  },
  {
   "cell_type": "code",
   "execution_count": null,
   "id": "405ddf05",
   "metadata": {
    "scrolled": true
   },
   "outputs": [],
   "source": [
    "# normalizes data makes it pretty in a dataframe & adds a new column timestamp\n",
    "df = pd.json_normalize(data['data'])\n",
    "df['timestamp'] = pd.to_datetime('now')\n",
    "df"
   ]
  },
  {
   "cell_type": "code",
   "execution_count": null,
   "id": "ccc641ce",
   "metadata": {},
   "outputs": [],
   "source": [
    "#if the file is not present create a file with dataframe df\n",
    "if not os.path.isfile(r\"C:\\Users\\kakku\\OneDrive\\Documents\\Kaksha's Data\\Python API Project\\API.csv\"):\n",
    "    df.to_csv(r\"C:\\Users\\kakku\\OneDrive\\Documents\\Kaksha's Data\\Python API Project\\API.csv\",header='column_names')\n",
    "else:\n",
    "    #print('Error')\n",
    "    df.to_csv(r\"C:\\Users\\kakku\\OneDrive\\Documents\\Kaksha's Data\\Python API Project\\API.csv\",mode='a',header=False) #if the file is already present then append the data"
   ]
  },
  {
   "cell_type": "code",
   "execution_count": null,
   "id": "bae90749",
   "metadata": {},
   "outputs": [],
   "source": [
    "def api_runner():\n",
    "    global df\n",
    "    url = 'https://pro-api.coinmarketcap.com/v1/cryptocurrency/listings/latest'\n",
    "    parameters = {\n",
    "        'start':'1',\n",
    "        'limit':'5000',\n",
    "        'convert':'USD'\n",
    "         }\n",
    "    headers = {\n",
    "        'Accepts': 'application/json',\n",
    "        'X-CMC_PRO_API_KEY': '16cb8e70-55da-4090-81ab-3c2d3e38b43c',\n",
    "        }\n",
    "\n",
    "    session = Session()\n",
    "    session.headers.update(headers)\n",
    "\n",
    "    try:\n",
    "        response = session.get(url, params=parameters)\n",
    "        data = json.loads(response.text)\n",
    "#         print(data)\n",
    "    except (ConnectionError, Timeout, TooManyRedirects) as e:\n",
    "        print(e)\n",
    "    \n",
    "    df = pd.json_normalize(data['data'])\n",
    "    df['timestamp'] = pd.to_datetime('now')\n",
    "    df\n",
    "    \n",
    "    if not os.path.isfile(r'C:\\Users\\kakku\\OneDrive\\Documents\\API.csv'):\n",
    "        df.to_csv(r'C:\\Users\\kakku\\OneDrive\\Documents\\API.csv',header='column_names')\n",
    "    else:\n",
    "        df.to_csv(r'C:\\Users\\kakku\\OneDrive\\Documents\\API.csv',mode='a',header=False)\n",
    "    \n",
    "   \n",
    "    \n",
    "#note: we get an error for data rate limit so follow the below steps\n",
    "# Go to Anaconda prompt put in the error \"jupyter notebook --NotebookApp.iopub_data_rate_limit=1e10\""
   ]
  },
  {
   "cell_type": "code",
   "execution_count": null,
   "id": "b50cf141",
   "metadata": {},
   "outputs": [],
   "source": [
    "import os\n",
    "from time import time\n",
    "from time import sleep\n",
    "\n",
    "for i in range (333):\n",
    "    api_runner()\n",
    "    print('API Runner completed')\n",
    "    sleep(60) #sleep for 1 minute\n",
    "exit()"
   ]
  },
  {
   "cell_type": "code",
   "execution_count": null,
   "id": "18d14ca2",
   "metadata": {},
   "outputs": [],
   "source": [
    "df72 = pd.read_csv(r'C:\\Users\\kakku\\OneDrive\\Documents\\API.csv')"
   ]
  },
  {
   "cell_type": "code",
   "execution_count": null,
   "id": "002a021e",
   "metadata": {},
   "outputs": [],
   "source": [
    "df72"
   ]
  },
  {
   "cell_type": "code",
   "execution_count": null,
   "id": "ad6ddfd1",
   "metadata": {},
   "outputs": [],
   "source": [
    "pd.set_option('display.float_format', lambda x : '%.5f' % x)"
   ]
  },
  {
   "cell_type": "code",
   "execution_count": null,
   "id": "38f5a81b",
   "metadata": {},
   "outputs": [],
   "source": [
    "df"
   ]
  },
  {
   "cell_type": "code",
   "execution_count": null,
   "id": "20cfd142",
   "metadata": {},
   "outputs": [],
   "source": [
    "#grouping by names to take avg of different columns\n",
    "\n",
    "df3 = df.groupby('name',sort=False)[['quote.USD.percent_change_1h','quote.USD.percent_change_24h','quote.USD.percent_change_7d','quote.USD.percent_change_30d','quote.USD.percent_change_60d','quote.USD.percent_change_90d']].mean()"
   ]
  },
  {
   "cell_type": "code",
   "execution_count": null,
   "id": "431cb3c6",
   "metadata": {},
   "outputs": [],
   "source": [
    "df3"
   ]
  },
  {
   "cell_type": "code",
   "execution_count": null,
   "id": "0aa40b92",
   "metadata": {},
   "outputs": [],
   "source": [
    "df4 = df3.stack()\n",
    "df4"
   ]
  },
  {
   "cell_type": "code",
   "execution_count": null,
   "id": "d99a7134",
   "metadata": {},
   "outputs": [],
   "source": [
    "df4.head(40)"
   ]
  },
  {
   "cell_type": "code",
   "execution_count": null,
   "id": "5dd834c8",
   "metadata": {},
   "outputs": [],
   "source": [
    "#type(df3)  #Dataframe\n",
    "type(df4)  #series"
   ]
  },
  {
   "cell_type": "code",
   "execution_count": null,
   "id": "1389cd08",
   "metadata": {},
   "outputs": [],
   "source": [
    "df5 = df4.to_frame(name = 'values')\n",
    "df5"
   ]
  },
  {
   "cell_type": "code",
   "execution_count": null,
   "id": "d46be4ef",
   "metadata": {},
   "outputs": [],
   "source": [
    "type(df5)"
   ]
  },
  {
   "cell_type": "code",
   "execution_count": null,
   "id": "ecbdbf04",
   "metadata": {},
   "outputs": [],
   "source": [
    "df5.count()"
   ]
  },
  {
   "cell_type": "code",
   "execution_count": null,
   "id": "1d60bed0",
   "metadata": {},
   "outputs": [],
   "source": [
    "index = pd.Index(range(29808))\n",
    "\n",
    "df6 = df5.reset_index()\n",
    "df6"
   ]
  },
  {
   "cell_type": "code",
   "execution_count": null,
   "id": "00e04f77",
   "metadata": {},
   "outputs": [],
   "source": [
    "df7 = df6.rename(columns = {'level_1':'percentage_change'})\n",
    "df7"
   ]
  },
  {
   "cell_type": "code",
   "execution_count": null,
   "id": "0ef95e85",
   "metadata": {},
   "outputs": [],
   "source": [
    "df8 = df7.head(40)\n",
    "df8"
   ]
  },
  {
   "cell_type": "code",
   "execution_count": null,
   "id": "dd57b2c3",
   "metadata": {},
   "outputs": [],
   "source": [
    "df8['percentage_change'] = df8['percentage_change'].replace(['quote.USD.percent_change_1h','quote.USD.percent_change_24h','quote.USD.percent_change_7d','quote.USD.percent_change_30d','quote.USD.percent_change_60d','quote.USD.percent_change_90d'],['1h','24h','7d','30d','60d','90d'])\n",
    "df8"
   ]
  },
  {
   "cell_type": "code",
   "execution_count": null,
   "id": "f650784b",
   "metadata": {},
   "outputs": [],
   "source": [
    "import seaborn as sns\n",
    "import matplotlib.pyplot as plt"
   ]
  },
  {
   "cell_type": "code",
   "execution_count": null,
   "id": "d4c35477",
   "metadata": {},
   "outputs": [],
   "source": [
    "sns.catplot(x='percentage_change',y='values',hue='name',data=df8,kind='point')"
   ]
  },
  {
   "cell_type": "code",
   "execution_count": null,
   "id": "d28db113",
   "metadata": {},
   "outputs": [],
   "source": [
    "df9 = df8[['name','percentage_change','values']]\n",
    "df9 = df9.query(\"name == 'Bitcoin'\")\n",
    "df9"
   ]
  },
  {
   "cell_type": "code",
   "execution_count": null,
   "id": "a3c81752",
   "metadata": {},
   "outputs": [],
   "source": [
    "sns.set_theme(style='darkgrid')\n",
    "\n",
    "sns.lineplot(x='percentage_change',y='values',data=df9)"
   ]
  },
  {
   "cell_type": "code",
   "execution_count": null,
   "id": "f0d52749",
   "metadata": {},
   "outputs": [],
   "source": []
  }
 ],
 "metadata": {
  "kernelspec": {
   "display_name": "Python 3 (ipykernel)",
   "language": "python",
   "name": "python3"
  },
  "language_info": {
   "codemirror_mode": {
    "name": "ipython",
    "version": 3
   },
   "file_extension": ".py",
   "mimetype": "text/x-python",
   "name": "python",
   "nbconvert_exporter": "python",
   "pygments_lexer": "ipython3",
   "version": "3.10.9"
  }
 },
 "nbformat": 4,
 "nbformat_minor": 5
}
